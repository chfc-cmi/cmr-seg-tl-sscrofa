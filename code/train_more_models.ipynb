{
 "cells": [
  {
   "cell_type": "markdown",
   "id": "94777ae1",
   "metadata": {},
   "source": [
    "# Train Model"
   ]
  },
  {
   "cell_type": "markdown",
   "id": "e496e1c5",
   "metadata": {},
   "source": [
    "## Load base model"
   ]
  },
  {
   "cell_type": "code",
   "execution_count": null,
   "id": "e7f1c39a",
   "metadata": {},
   "outputs": [],
   "source": [
    "%cd .."
   ]
  },
  {
   "cell_type": "code",
   "execution_count": null,
   "id": "2d7b3ecb",
   "metadata": {},
   "outputs": [],
   "source": [
    "from fastai.vision.all import *"
   ]
  },
  {
   "cell_type": "code",
   "execution_count": null,
   "id": "335c5b29",
   "metadata": {},
   "outputs": [],
   "source": [
    "def label_func(x):\n",
    "    return str(x['file']).replace(\"images\", \"masks/obs0_rep0\").replace(\"image\",\"mask\")"
   ]
  },
  {
   "cell_type": "code",
   "execution_count": null,
   "id": "c8083985",
   "metadata": {},
   "outputs": [],
   "source": [
    "def acc_seg(input, target):\n",
    "    target = target.squeeze(1)\n",
    "    return (input.argmax(dim=1)==target).float().mean()\n",
    "\n",
    "def multi_dice(input:Tensor, targs:Tensor, class_id=0, inverse=False):\n",
    "    n = targs.shape[0]\n",
    "    input = input.argmax(dim=1).view(n,-1)\n",
    "    # replace all with class_id with 1 all else with 0 to have binary case\n",
    "    output = (input == class_id).float()\n",
    "    # same for targs\n",
    "    targs = (targs.view(n,-1) == class_id).float()\n",
    "    if inverse:\n",
    "        output = 1 - output\n",
    "        targs = 1 - targs\n",
    "    intersect = (output * targs).sum(dim=1).float()\n",
    "    union = (output+targs).sum(dim=1).float()\n",
    "    res = 2. * intersect / union\n",
    "    res[torch.isnan(res)] = 1\n",
    "    return res.mean()\n",
    "\n",
    "def diceComb(input:Tensor, targs:Tensor):\n",
    "    return multi_dice(input, targs, class_id=0, inverse=True)\n",
    "def diceLV(input:Tensor, targs:Tensor):\n",
    "    return multi_dice(input, targs, class_id=1)\n",
    "def diceMY(input:Tensor, targs:Tensor):\n",
    "    return multi_dice(input, targs, class_id=2)"
   ]
  },
  {
   "cell_type": "code",
   "execution_count": null,
   "id": "792c3c1c",
   "metadata": {},
   "outputs": [],
   "source": [
    "trainedModel = load_learner(\"inputs/models/kaggle-ukbb-base-fastai2.pkl\", cpu=False)"
   ]
  },
  {
   "cell_type": "markdown",
   "id": "fa5ccc70",
   "metadata": {},
   "source": [
    "## Prepare data loading"
   ]
  },
  {
   "cell_type": "code",
   "execution_count": null,
   "id": "baf3ee64",
   "metadata": {},
   "outputs": [],
   "source": [
    "all_files = sorted(glob.glob(\"inputs/cmr-cine-sscrofa/data/png/images/*.png\"))"
   ]
  },
  {
   "cell_type": "code",
   "execution_count": null,
   "id": "21ec3de5",
   "metadata": {},
   "outputs": [],
   "source": [
    "df = pd.DataFrame({\"file\":all_files})\n",
    "df"
   ]
  },
  {
   "cell_type": "code",
   "execution_count": null,
   "id": "8af5b94b",
   "metadata": {},
   "outputs": [],
   "source": [
    "df = df.assign(\n",
    "    id=lambda x: [z.split(\"/\")[-1].split(\"_\")[0] for z in x['file']],\n",
    "    frame=lambda x: [int(z.split(\"/\")[-1].split(\"_\")[2][5:8]) for z in x['file']],\n",
    ")\n",
    "df"
   ]
  },
  {
   "cell_type": "code",
   "execution_count": null,
   "id": "560d7ef1",
   "metadata": {},
   "outputs": [],
   "source": [
    "sets = pd.read_csv(\"inputs/training/cmr-cine-sscrofa.sets.tsv\", sep=\"\\t\")"
   ]
  },
  {
   "cell_type": "code",
   "execution_count": null,
   "id": "30d4d32a",
   "metadata": {},
   "outputs": [],
   "source": [
    "df = pd.merge(df, sets)"
   ]
  },
  {
   "cell_type": "code",
   "execution_count": null,
   "id": "6dd8b4ae",
   "metadata": {},
   "outputs": [],
   "source": [
    "esed = pd.read_csv(\"inputs/cmr-cine-sscrofa/data/metadata/obs0_rep0.tsv\", sep=\"\\t\")\n",
    "esed = esed.melt(id_vars=['id'], value_vars=['es', 'ed'], var_name=\"phase\", value_name=\"frame\")\n",
    "esed"
   ]
  },
  {
   "cell_type": "code",
   "execution_count": null,
   "id": "5de7a357",
   "metadata": {},
   "outputs": [],
   "source": [
    "df = pd.merge(df, esed)"
   ]
  },
  {
   "cell_type": "code",
   "execution_count": null,
   "id": "72a40966",
   "metadata": {},
   "outputs": [],
   "source": [
    "df = df.assign(is_valid=lambda x: x['set']==\"val\")"
   ]
  },
  {
   "cell_type": "code",
   "execution_count": null,
   "id": "9a6e87a3",
   "metadata": {},
   "outputs": [],
   "source": [
    "df.set.value_counts()"
   ]
  },
  {
   "cell_type": "code",
   "execution_count": null,
   "id": "af47aea7",
   "metadata": {},
   "outputs": [],
   "source": [
    "train_val = df[df.set != \"test\"]"
   ]
  },
  {
   "cell_type": "code",
   "execution_count": null,
   "id": "72c0d1c1",
   "metadata": {},
   "outputs": [],
   "source": [
    "train_val.set.value_counts()"
   ]
  },
  {
   "cell_type": "code",
   "execution_count": null,
   "id": "3cf77c65",
   "metadata": {},
   "outputs": [],
   "source": [
    "heart = DataBlock(blocks=(ImageBlock, MaskBlock(codes = np.array([\"background\",\"left_ventricle\",\"myocardium\"]))),\n",
    "        get_x=ColReader(\"file\"),\n",
    "        get_y = label_func,\n",
    "        splitter = ColSplitter(col=\"is_valid\"),\n",
    "        item_tfms=Resize(512, method='crop'),\n",
    "        batch_tfms=aug_transforms(do_flip=True,max_rotate=90,max_lighting=.4,max_zoom=1.2,size=256))"
   ]
  },
  {
   "cell_type": "code",
   "execution_count": null,
   "id": "a9bc6acb",
   "metadata": {},
   "outputs": [],
   "source": [
    "import ctypes\n",
    "\n",
    "magma_path = '/tank/home/ankenbrand/miniconda3/lib/libmagma.so'\n",
    "magma_path = '/tank/home/ankenbrand/miniconda3/pkgs/magma-2.5.4-h6103c52_2/lib/libmagma.so'\n",
    "libmagma = ctypes.cdll.LoadLibrary(magma_path)\n",
    "libmagma.magma_init()"
   ]
  },
  {
   "cell_type": "code",
   "execution_count": null,
   "id": "dbb84766",
   "metadata": {},
   "outputs": [],
   "source": [
    "dls = heart.dataloaders(train_val, bs=8)"
   ]
  },
  {
   "cell_type": "code",
   "execution_count": null,
   "id": "af841ade",
   "metadata": {},
   "outputs": [],
   "source": [
    "dls.show_batch()"
   ]
  },
  {
   "cell_type": "markdown",
   "id": "5d0ece9e",
   "metadata": {},
   "source": [
    "## Retrain model (with 50+50 epochs)"
   ]
  },
  {
   "cell_type": "code",
   "execution_count": null,
   "id": "2258a36d",
   "metadata": {},
   "outputs": [],
   "source": [
    "trainedModel.dls = dls"
   ]
  },
  {
   "cell_type": "code",
   "execution_count": null,
   "id": "86dc967a",
   "metadata": {},
   "outputs": [],
   "source": [
    "trainedModel.path = Path(\"model\")"
   ]
  },
  {
   "cell_type": "code",
   "execution_count": null,
   "id": "add32f67",
   "metadata": {},
   "outputs": [],
   "source": [
    "trainedModel.add_cbs([CSVLogger(fname=\"50_50.csv\",append=True)])"
   ]
  },
  {
   "cell_type": "code",
   "execution_count": null,
   "id": "d721e7d7",
   "metadata": {},
   "outputs": [],
   "source": [
    "trainedModel.freeze()"
   ]
  },
  {
   "cell_type": "code",
   "execution_count": null,
   "id": "6cf6e2b2",
   "metadata": {},
   "outputs": [],
   "source": [
    "trainedModel.lr_find()"
   ]
  },
  {
   "cell_type": "code",
   "execution_count": null,
   "id": "acb63211",
   "metadata": {},
   "outputs": [],
   "source": [
    "for i in range(5):\n",
    "    trainedModel.fit_one_cycle(10, lr_max=1e-4)\n",
    "    trainedModel.save(\"50_50-{}-epochs\".format(10*i+10))"
   ]
  },
  {
   "cell_type": "code",
   "execution_count": null,
   "id": "d34a594a",
   "metadata": {},
   "outputs": [],
   "source": [
    "trainedModel.show_results()"
   ]
  },
  {
   "cell_type": "code",
   "execution_count": null,
   "id": "b0b1ed90",
   "metadata": {},
   "outputs": [],
   "source": [
    "trainedModel.unfreeze()"
   ]
  },
  {
   "cell_type": "code",
   "execution_count": null,
   "id": "b4fdbc08",
   "metadata": {},
   "outputs": [],
   "source": [
    "trainedModel.lr_find()"
   ]
  },
  {
   "cell_type": "code",
   "execution_count": null,
   "id": "05d0949f",
   "metadata": {},
   "outputs": [],
   "source": [
    "for i in range(5):\n",
    "    trainedModel.fit_one_cycle(10, lr_max=1e-5)\n",
    "    trainedModel.save(\"50_50-{}-epochs-unfrozen\".format(10*i+10))"
   ]
  },
  {
   "cell_type": "code",
   "execution_count": null,
   "id": "86956706",
   "metadata": {},
   "outputs": [],
   "source": [
    "trainedModel.remove_cb(CSVLogger)\n",
    "trainedModel.export(\"50_50-final.pkl\")"
   ]
  },
  {
   "cell_type": "markdown",
   "id": "91706c7e",
   "metadata": {},
   "source": [
    "## Retrain model with DiceLoss (and 50+50 epochs)"
   ]
  },
  {
   "cell_type": "code",
   "execution_count": null,
   "id": "22c8a9dc",
   "metadata": {},
   "outputs": [],
   "source": [
    "trainedModel = load_learner(\"inputs/models/kaggle-ukbb-base-fastai2.pkl\", cpu=False)"
   ]
  },
  {
   "cell_type": "code",
   "execution_count": null,
   "id": "d3a22f33",
   "metadata": {},
   "outputs": [],
   "source": [
    "trainedModel.dls = dls"
   ]
  },
  {
   "cell_type": "code",
   "execution_count": null,
   "id": "422f2279",
   "metadata": {},
   "outputs": [],
   "source": [
    "trainedModel.loss_func = DiceLoss()"
   ]
  },
  {
   "cell_type": "code",
   "execution_count": null,
   "id": "b3818cc4",
   "metadata": {},
   "outputs": [],
   "source": [
    "trainedModel.path = Path(\"model\")"
   ]
  },
  {
   "cell_type": "code",
   "execution_count": null,
   "id": "36aaa9c4",
   "metadata": {},
   "outputs": [],
   "source": [
    "trainedModel.add_cbs([CSVLogger(fname=\"dice_50_50.csv\",append=True)])"
   ]
  },
  {
   "cell_type": "code",
   "execution_count": null,
   "id": "a27e3bdc",
   "metadata": {},
   "outputs": [],
   "source": [
    "trainedModel.freeze()"
   ]
  },
  {
   "cell_type": "code",
   "execution_count": null,
   "id": "d8b104f1",
   "metadata": {},
   "outputs": [],
   "source": [
    "trainedModel.lr_find()"
   ]
  },
  {
   "cell_type": "code",
   "execution_count": null,
   "id": "eab4fc32",
   "metadata": {},
   "outputs": [],
   "source": [
    "for i in range(5):\n",
    "    trainedModel.fit_one_cycle(10, lr_max=1e-4)\n",
    "    trainedModel.save(\"dice_50_50-{}-epochs\".format(10*i+10))"
   ]
  },
  {
   "cell_type": "code",
   "execution_count": null,
   "id": "867bf83d",
   "metadata": {},
   "outputs": [],
   "source": [
    "trainedModel.show_results()"
   ]
  },
  {
   "cell_type": "code",
   "execution_count": null,
   "id": "8751dfdd",
   "metadata": {},
   "outputs": [],
   "source": [
    "trainedModel.unfreeze()"
   ]
  },
  {
   "cell_type": "code",
   "execution_count": null,
   "id": "f448608f",
   "metadata": {},
   "outputs": [],
   "source": [
    "trainedModel.lr_find()"
   ]
  },
  {
   "cell_type": "code",
   "execution_count": null,
   "id": "1e9977de",
   "metadata": {},
   "outputs": [],
   "source": [
    "for i in range(5):\n",
    "    trainedModel.fit_one_cycle(10, lr_max=1e-5)\n",
    "    trainedModel.save(\"dice_50_50-{}-epochs-unfrozen\".format(10*i+10))"
   ]
  },
  {
   "cell_type": "code",
   "execution_count": null,
   "id": "abbf2ad1",
   "metadata": {},
   "outputs": [],
   "source": [
    "trainedModel.remove_cb(CSVLogger)\n",
    "trainedModel.export(\"dice_50_50-final.pkl\")"
   ]
  }
 ],
 "metadata": {
  "kernelspec": {
   "display_name": "pig",
   "language": "python",
   "name": "pig"
  },
  "language_info": {
   "codemirror_mode": {
    "name": "ipython",
    "version": 3
   },
   "file_extension": ".py",
   "mimetype": "text/x-python",
   "name": "python",
   "nbconvert_exporter": "python",
   "pygments_lexer": "ipython3",
   "version": "3.9.7"
  }
 },
 "nbformat": 4,
 "nbformat_minor": 5
}
