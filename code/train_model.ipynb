{
 "cells": [
  {
   "cell_type": "markdown",
   "id": "5d821a99",
   "metadata": {},
   "source": [
    "# Train Model"
   ]
  },
  {
   "cell_type": "markdown",
   "id": "2fb0986c",
   "metadata": {
    "heading_collapsed": "true"
   },
   "source": [
    "## Load base model"
   ]
  },
  {
   "cell_type": "code",
   "execution_count": null,
   "id": "34866f16",
   "metadata": {},
   "outputs": [],
   "source": [
    "from fastai.vision.all import *"
   ]
  },
  {
   "cell_type": "code",
   "execution_count": null,
   "id": "39b7d6d7",
   "metadata": {},
   "outputs": [],
   "source": [
    "def label_func(x):\n",
    "    return str(x['file']).replace(\"images\", \"masks/obs0_rep0\").replace(\"image\",\"mask\")"
   ]
  },
  {
   "cell_type": "code",
   "execution_count": null,
   "id": "e3073c13",
   "metadata": {},
   "outputs": [],
   "source": [
    "def acc_seg(input, target):\n",
    "    target = target.squeeze(1)\n",
    "    return (input.argmax(dim=1)==target).float().mean()\n",
    "\n",
    "def multi_dice(input:Tensor, targs:Tensor, class_id=0, inverse=False):\n",
    "    n = targs.shape[0]\n",
    "    input = input.argmax(dim=1).view(n,-1)\n",
    "    # replace all with class_id with 1 all else with 0 to have binary case\n",
    "    output = (input == class_id).float()\n",
    "    # same for targs\n",
    "    targs = (targs.view(n,-1) == class_id).float()\n",
    "    if inverse:\n",
    "        output = 1 - output\n",
    "        targs = 1 - targs\n",
    "    intersect = (output * targs).sum(dim=1).float()\n",
    "    union = (output+targs).sum(dim=1).float()\n",
    "    res = 2. * intersect / union\n",
    "    res[torch.isnan(res)] = 1\n",
    "    return res.mean()\n",
    "\n",
    "def diceComb(input:Tensor, targs:Tensor):\n",
    "    return multi_dice(input, targs, class_id=0, inverse=True)\n",
    "def diceLV(input:Tensor, targs:Tensor):\n",
    "    return multi_dice(input, targs, class_id=1)\n",
    "def diceMY(input:Tensor, targs:Tensor):\n",
    "    return multi_dice(input, targs, class_id=2)"
   ]
  },
  {
   "cell_type": "code",
   "execution_count": null,
   "id": "0dc49a3f",
   "metadata": {},
   "outputs": [],
   "source": [
    "trainedModel = load_learner(\"../inputs/models/kaggle-ukbb-base-fastai2.pkl\", cpu=False)"
   ]
  },
  {
   "cell_type": "markdown",
   "id": "d01eaa3b",
   "metadata": {
    "heading_collapsed": "true"
   },
   "source": [
    "## Prepare data loading"
   ]
  },
  {
   "cell_type": "code",
   "execution_count": null,
   "id": "cf0fee60",
   "metadata": {},
   "outputs": [],
   "source": [
    "all_files = sorted(glob.glob(\"../inputs/cmr-cine-sscrofa/data/png/images/*.png\"))"
   ]
  },
  {
   "cell_type": "code",
   "execution_count": null,
   "id": "bfe1bda7",
   "metadata": {},
   "outputs": [],
   "source": [
    "df = pd.DataFrame({\"file\":all_files})\n",
    "df"
   ]
  },
  {
   "cell_type": "code",
   "execution_count": null,
   "id": "856feb1c",
   "metadata": {},
   "outputs": [],
   "source": [
    "df = df.assign(\n",
    "    id=lambda x: [z.split(\"/\")[-1].split(\"_\")[0] for z in x['file']],\n",
    "    frame=lambda x: [int(z.split(\"/\")[-1].split(\"_\")[2][5:8]) for z in x['file']],\n",
    ")\n",
    "df"
   ]
  },
  {
   "cell_type": "code",
   "execution_count": null,
   "id": "51583b22",
   "metadata": {},
   "outputs": [],
   "source": [
    "sets = pd.read_csv(\"../inputs/training/cmr-cine-sscrofa.sets.tsv\", sep=\"\\t\")"
   ]
  },
  {
   "cell_type": "code",
   "execution_count": null,
   "id": "af467488",
   "metadata": {},
   "outputs": [],
   "source": [
    "df = pd.merge(df, sets)"
   ]
  },
  {
   "cell_type": "code",
   "execution_count": null,
   "id": "030db587",
   "metadata": {},
   "outputs": [],
   "source": [
    "esed = pd.read_csv(\"../inputs/cmr-cine-sscrofa/data/metadata/obs0_rep0.tsv\", sep=\"\\t\")\n",
    "esed = esed.melt(id_vars=['id'], value_vars=['es', 'ed'], var_name=\"phase\", value_name=\"frame\")\n",
    "esed"
   ]
  },
  {
   "cell_type": "code",
   "execution_count": null,
   "id": "92411982",
   "metadata": {},
   "outputs": [],
   "source": [
    "df = pd.merge(df, esed)"
   ]
  },
  {
   "cell_type": "code",
   "execution_count": null,
   "id": "e1682820",
   "metadata": {},
   "outputs": [],
   "source": [
    "df = df.assign(is_valid=lambda x: x['set']==\"val\")"
   ]
  },
  {
   "cell_type": "code",
   "execution_count": null,
   "id": "05363a84",
   "metadata": {},
   "outputs": [],
   "source": [
    "df.set.value_counts()"
   ]
  },
  {
   "cell_type": "code",
   "execution_count": null,
   "id": "0b9daf85",
   "metadata": {},
   "outputs": [],
   "source": [
    "train_val = df[df.set != \"test\"]"
   ]
  },
  {
   "cell_type": "code",
   "execution_count": null,
   "id": "b2d98518",
   "metadata": {},
   "outputs": [],
   "source": [
    "train_val.set.value_counts()"
   ]
  },
  {
   "cell_type": "code",
   "execution_count": null,
   "id": "3b125b2f",
   "metadata": {},
   "outputs": [],
   "source": [
    "train_val.is_valid.value_counts()"
   ]
  },
  {
   "cell_type": "code",
   "execution_count": null,
   "id": "b211f4ef",
   "metadata": {},
   "outputs": [],
   "source": [
    "heart = DataBlock(blocks=(ImageBlock, MaskBlock(codes = np.array([\"background\",\"left_ventricle\",\"myocardium\"]))),\n",
    "        get_x=ColReader(\"file\"),\n",
    "        get_y = label_func,\n",
    "        splitter = ColSplitter(col=\"is_valid\"),\n",
    "        item_tfms=Resize(512, method='crop'),\n",
    "        batch_tfms=aug_transforms(do_flip=True,max_rotate=90,max_lighting=.4,max_zoom=1.2,size=256))"
   ]
  },
  {
   "cell_type": "code",
   "execution_count": null,
   "id": "3210ff7a",
   "metadata": {},
   "outputs": [],
   "source": [
    "import ctypes\n",
    "\n",
    "magma_path = '/tank/home/ankenbrand/miniconda3/lib/libmagma.so'\n",
    "magma_path = '/tank/home/ankenbrand/miniconda3/pkgs/magma-2.5.4-h6103c52_2/lib/libmagma.so'\n",
    "libmagma = ctypes.cdll.LoadLibrary(magma_path)\n",
    "libmagma.magma_init()"
   ]
  },
  {
   "cell_type": "code",
   "execution_count": null,
   "id": "fe713cc1",
   "metadata": {},
   "outputs": [],
   "source": [
    "dls = heart.dataloaders(train_val, bs=16)"
   ]
  },
  {
   "cell_type": "code",
   "execution_count": null,
   "id": "4c07244e",
   "metadata": {},
   "outputs": [],
   "source": [
    "dls.show_batch()"
   ]
  },
  {
   "cell_type": "markdown",
   "id": "adfe1353",
   "metadata": {
    "heading_collapsed": "true"
   },
   "source": [
    "## Make predictions with base model"
   ]
  },
  {
   "cell_type": "code",
   "execution_count": null,
   "id": "97028c76",
   "metadata": {},
   "outputs": [],
   "source": [
    "img = Image.open(\"../inputs/cmr-cine-sscrofa/data/png/images/A05_slice004_frame029-image.png\").resize((256,256))"
   ]
  },
  {
   "cell_type": "code",
   "execution_count": null,
   "id": "52c8ecd4",
   "metadata": {},
   "outputs": [],
   "source": [
    "pred, bla, blub = trainedModel.predict(\"../inputs/cmr-cine-sscrofa/data/png/images/A05_slice004_frame029-image.png\")"
   ]
  },
  {
   "cell_type": "code",
   "execution_count": null,
   "id": "042257ee",
   "metadata": {},
   "outputs": [],
   "source": [
    "plt.imshow(pred)"
   ]
  },
  {
   "cell_type": "code",
   "execution_count": null,
   "id": "adabbf49",
   "metadata": {},
   "outputs": [],
   "source": [
    "plt.imshow(img, cmap=\"bone\")\n",
    "plt.imshow(pred, alpha=.5)"
   ]
  },
  {
   "cell_type": "code",
   "execution_count": null,
   "id": "32afd029",
   "metadata": {},
   "outputs": [],
   "source": [
    "trainedModel.dls = dls"
   ]
  },
  {
   "cell_type": "code",
   "execution_count": null,
   "id": "f5215517",
   "metadata": {},
   "outputs": [],
   "source": [
    "trainedModel.show_results()"
   ]
  },
  {
   "cell_type": "markdown",
   "id": "dc7cfcab",
   "metadata": {},
   "source": [
    "## Retrain model"
   ]
  },
  {
   "cell_type": "code",
   "execution_count": null,
   "id": "37e882dc",
   "metadata": {},
   "outputs": [],
   "source": [
    "trainedModel.path = Path(\"../model\")"
   ]
  },
  {
   "cell_type": "code",
   "execution_count": null,
   "id": "967785ed",
   "metadata": {},
   "outputs": [],
   "source": [
    "trainedModel.add_cbs([CSVLogger(append=True)])"
   ]
  },
  {
   "cell_type": "code",
   "execution_count": null,
   "id": "cb6a88b4",
   "metadata": {},
   "outputs": [],
   "source": [
    "trainedModel.freeze()"
   ]
  },
  {
   "cell_type": "code",
   "execution_count": null,
   "id": "27ea94a1",
   "metadata": {},
   "outputs": [],
   "source": [
    "trainedModel.lr_find()"
   ]
  },
  {
   "cell_type": "code",
   "execution_count": null,
   "id": "8203e581",
   "metadata": {},
   "outputs": [],
   "source": [
    "for i in range(10):\n",
    "    trainedModel.fit_one_cycle(10, lr_max=1e-4)\n",
    "    trainedModel.save(\"{}-epochs\".format(10*i+10))"
   ]
  },
  {
   "cell_type": "code",
   "execution_count": null,
   "id": "e681e00b",
   "metadata": {},
   "outputs": [],
   "source": [
    "trainedModel.show_results()"
   ]
  },
  {
   "cell_type": "code",
   "execution_count": null,
   "id": "03004e3d",
   "metadata": {},
   "outputs": [],
   "source": [
    "trainedModel.unfreeze()"
   ]
  },
  {
   "cell_type": "code",
   "execution_count": null,
   "id": "bbab47c7",
   "metadata": {},
   "outputs": [],
   "source": [
    "trainedModel.lr_find()"
   ]
  },
  {
   "cell_type": "code",
   "execution_count": null,
   "id": "602b4045",
   "metadata": {},
   "outputs": [],
   "source": [
    "for i in range(10):\n",
    "    trainedModel.fit_one_cycle(10, lr_max=1e-5)\n",
    "    trainedModel.save(\"{}-epochs-unfrozen\".format(10*i+10))"
   ]
  },
  {
   "cell_type": "code",
   "execution_count": null,
   "id": "47c995fb",
   "metadata": {},
   "outputs": [],
   "source": [
    "a,b,c = trainedModel.get_preds(with_input = True)"
   ]
  },
  {
   "cell_type": "code",
   "execution_count": null,
   "id": "7f96b12e",
   "metadata": {},
   "outputs": [],
   "source": [
    "plt.imshow(a[9].permute(1,2,0))"
   ]
  },
  {
   "cell_type": "code",
   "execution_count": null,
   "id": "1381db29",
   "metadata": {},
   "outputs": [],
   "source": [
    "a[9].permute(1,2,0).max()"
   ]
  },
  {
   "cell_type": "code",
   "execution_count": null,
   "id": "6f9f1455",
   "metadata": {},
   "outputs": [],
   "source": [
    "fig, ax = plt.subplots(figsize=(12,12))\n",
    "ax.imshow(trainedModel.predict(\"../inputs/cmr-cine-sscrofa/data/png/images/A05_slice005_frame010-image.png\")[0])"
   ]
  },
  {
   "cell_type": "code",
   "execution_count": null,
   "id": "287913fd",
   "metadata": {},
   "outputs": [],
   "source": [
    "trainedModel.remove_cb(CSVLogger)\n",
    "trainedModel.export(\"100-epochs-unfrozen.pkl\")"
   ]
  }
 ],
 "metadata": {
  "kernelspec": {
   "display_name": "pig",
   "language": "python",
   "name": "pig"
  },
  "language_info": {
   "codemirror_mode": {
    "name": "ipython",
    "version": 3
   },
   "file_extension": ".py",
   "mimetype": "text/x-python",
   "name": "python",
   "nbconvert_exporter": "python",
   "pygments_lexer": "ipython3",
   "version": "3.9.7"
  }
 },
 "nbformat": 4,
 "nbformat_minor": 5
}
